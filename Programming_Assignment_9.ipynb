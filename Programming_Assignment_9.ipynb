{
  "cells": [
    {
      "cell_type": "markdown",
      "id": "47b9bb99",
      "metadata": {
        "id": "47b9bb99"
      },
      "source": [
        "## Programming Assignment_9\n",
        "----------------"
      ]
    },
    {
      "cell_type": "markdown",
      "id": "c725f7a9",
      "metadata": {
        "id": "c725f7a9"
      },
      "source": [
        "### 1. Write a Python program to check if the given number is a Disarium Number?"
      ]
    },
    {
      "cell_type": "code",
      "source": [
        "def calculateLength(n):    \n",
        "    length = 0;    \n",
        "    while(n != 0):    \n",
        "        length = length + 1;    \n",
        "        n = n//10;    \n",
        "    return length;    \n",
        "     \n",
        "num = 175;    \n",
        "rem = sum = 0;    \n",
        "len = calculateLength(num);    \n",
        "     \n",
        "#Makes a copy of the original number num    \n",
        "n = num;    \n",
        "     \n",
        "#Calculates the sum of digits powered with their respective position    \n",
        "while(num > 0):    \n",
        "    rem = num%10;    \n",
        "    sum = sum + int(rem**len);    \n",
        "    num = num//10;    \n",
        "    len = len - 1;    \n",
        "     \n",
        "#Checks whether the sum is equal to the number itself    \n",
        "if(sum == n):    \n",
        "    print(str(n) + \" is a disarium number\");    \n",
        "else:    \n",
        "    print(str(n) + \" is not a disarium number\");   "
      ],
      "metadata": {
        "colab": {
          "base_uri": "https://localhost:8080/"
        },
        "id": "MVjL_Fv7uQr9",
        "outputId": "ea5603fb-d93a-4692-aa50-a17c2af7d42f"
      },
      "id": "MVjL_Fv7uQr9",
      "execution_count": null,
      "outputs": [
        {
          "output_type": "stream",
          "name": "stdout",
          "text": [
            "175 is a disarium number\n"
          ]
        }
      ]
    },
    {
      "cell_type": "markdown",
      "id": "f0064401",
      "metadata": {
        "id": "f0064401"
      },
      "source": [
        "### 2. Write a Python program to print all disarium numbers between 1 to 100?"
      ]
    },
    {
      "cell_type": "code",
      "source": [
        "def calculateLength(n):    \n",
        "    length = 0;    \n",
        "    while(n != 0):    \n",
        "        length = length + 1;    \n",
        "        n = n//10;    \n",
        "    return length;    \n",
        "     \n",
        "#sumOfDigits() will calculates the sum of digits powered with their respective position    \n",
        "def sumOfDigits(num):    \n",
        "    rem = sum = 0;    \n",
        "    len = calculateLength(num);    \n",
        "        \n",
        "    while(num > 0):    \n",
        "        rem = num%10;    \n",
        "        sum = sum + (rem**len);    \n",
        "        num = num//10;    \n",
        "        len = len - 1;    \n",
        "    return sum;    \n",
        "      \n",
        "result = 0;    \n",
        "     \n",
        "#Displays all disarium numbers between 1 and 100    \n",
        "print(\"Disarium numbers between 1 and 100 are\");    \n",
        "for i in range(1, 101):    \n",
        "    result = sumOfDigits(i);    \n",
        "        \n",
        "    if(result == i):    \n",
        "        print(i),    "
      ],
      "metadata": {
        "colab": {
          "base_uri": "https://localhost:8080/"
        },
        "id": "GHjyFMtaurSO",
        "outputId": "7bd96d3f-f9e9-48eb-8ccd-10bd1e35df0e"
      },
      "id": "GHjyFMtaurSO",
      "execution_count": null,
      "outputs": [
        {
          "output_type": "stream",
          "name": "stdout",
          "text": [
            "Disarium numbers between 1 and 100 are\n",
            "1\n",
            "2\n",
            "3\n",
            "4\n",
            "5\n",
            "6\n",
            "7\n",
            "8\n",
            "9\n",
            "89\n"
          ]
        }
      ]
    },
    {
      "cell_type": "markdown",
      "id": "31df1e4a",
      "metadata": {
        "id": "31df1e4a"
      },
      "source": [
        "### 3. Write a Python program to check if the given number is Happy Number?"
      ]
    },
    {
      "cell_type": "code",
      "source": [
        "# To take input from the user\n",
        "num = int(input(\"Enter a number: \"))\n",
        "\n",
        "#isHappyNumber() will determine whether a number is happy or not    \n",
        "def isHappyNumber(num):    \n",
        "    rem = sum = 0;    \n",
        "        \n",
        "    #Calculates the sum of squares of digits    \n",
        "    while(num > 0):    \n",
        "        rem = num%10;    \n",
        "        sum = sum + (rem*rem);    \n",
        "        num = num//10;    \n",
        "    return sum;    \n",
        "        \n",
        "#num = 82;    \n",
        "result = num;    \n",
        "     \n",
        "while(result != 1 and result != 4):    \n",
        "    result = isHappyNumber(result);    \n",
        "     \n",
        "#Happy number always ends with 1    \n",
        "if(result == 1):    \n",
        "    print(str(num) + \" is a happy number\");    \n",
        "#Unhappy number ends in a cycle of repeating numbers which contain 4    \n",
        "elif(result == 4):    \n",
        "    print(str(num) + \" is not a happy number\");   "
      ],
      "metadata": {
        "colab": {
          "base_uri": "https://localhost:8080/"
        },
        "id": "f6MTqQeuwXl3",
        "outputId": "acd94416-48b9-4577-ab8f-64fb47e8ac1c"
      },
      "id": "f6MTqQeuwXl3",
      "execution_count": null,
      "outputs": [
        {
          "output_type": "stream",
          "name": "stdout",
          "text": [
            "Enter a number: 32\n",
            "32 is a happy number\n"
          ]
        }
      ]
    },
    {
      "cell_type": "markdown",
      "id": "51b265e3",
      "metadata": {
        "id": "51b265e3"
      },
      "source": [
        "### 4. Write a Python program to print all happy numbers between 1 and 100?"
      ]
    },
    {
      "cell_type": "code",
      "source": [
        "def isHappyNumber(num):    \n",
        "    rem = sum = 0;    \n",
        "        \n",
        "    #Calculates the sum of squares of digits    \n",
        "    while(num > 0):    \n",
        "        rem = num%10;    \n",
        "        sum = sum + (rem*rem);    \n",
        "        num = num//10;    \n",
        "    return sum;    \n",
        "            \n",
        "#Displays all happy numbers between 1 and 100    \n",
        "print(\"List of happy numbers between 1 and 100: \");    \n",
        "for i in range(1, 101):    \n",
        "    result = i;    \n",
        "        \n",
        "    #Happy number always ends with 1 and     \n",
        "    #unhappy number ends in a cycle of repeating numbers which contains 4    \n",
        "    while(result != 1 and result != 4):    \n",
        "        result = isHappyNumber(result);    \n",
        "        \n",
        "    if(result == 1):    \n",
        "        print(i),    \n",
        "        print(\" \"),    "
      ],
      "metadata": {
        "colab": {
          "base_uri": "https://localhost:8080/"
        },
        "id": "hOF0lNtXzECB",
        "outputId": "c40154cb-0136-4c75-aae7-6b566b9a101b"
      },
      "id": "hOF0lNtXzECB",
      "execution_count": null,
      "outputs": [
        {
          "output_type": "stream",
          "name": "stdout",
          "text": [
            "List of happy numbers between 1 and 100: \n",
            "1\n",
            " \n",
            "7\n",
            " \n",
            "10\n",
            " \n",
            "13\n",
            " \n",
            "19\n",
            " \n",
            "23\n",
            " \n",
            "28\n",
            " \n",
            "31\n",
            " \n",
            "32\n",
            " \n",
            "44\n",
            " \n",
            "49\n",
            " \n",
            "68\n",
            " \n",
            "70\n",
            " \n",
            "79\n",
            " \n",
            "82\n",
            " \n",
            "86\n",
            " \n",
            "91\n",
            " \n",
            "94\n",
            " \n",
            "97\n",
            " \n",
            "100\n",
            " \n"
          ]
        }
      ]
    },
    {
      "cell_type": "markdown",
      "id": "6a190ee0",
      "metadata": {
        "id": "6a190ee0"
      },
      "source": [
        "### 5. Write a Python program to determine whether the given number is a Harshad Number?"
      ]
    },
    {
      "cell_type": "code",
      "source": [
        "# Harshad Number\n",
        "\n",
        "# Reading number\n",
        "number = int(input('Enter number: '))\n",
        "\n",
        "# Making copy of number for later use\n",
        "copy = number\n",
        "\n",
        "# Finding sum of digit\n",
        "digit_sum = 0\n",
        "\n",
        "while number:\n",
        "    digit_sum += number%10\n",
        "    number //= 10\n",
        "\n",
        "# Checking divisibility & making decision\n",
        "if copy%digit_sum == 0:\n",
        "    print('%d is Harshad Number' % (copy))\n",
        "else:\n",
        "    print('%d is Not Harshad Number' % (copy))"
      ],
      "metadata": {
        "colab": {
          "base_uri": "https://localhost:8080/"
        },
        "id": "BPs06kYA0l2C",
        "outputId": "d7182e43-f6e9-4e6b-bd9a-16036982eeae"
      },
      "id": "BPs06kYA0l2C",
      "execution_count": null,
      "outputs": [
        {
          "output_type": "stream",
          "name": "stdout",
          "text": [
            "Enter number: 153\n",
            "153 is Harshad Number\n"
          ]
        }
      ]
    },
    {
      "cell_type": "markdown",
      "id": "7a7ea92e",
      "metadata": {
        "id": "7a7ea92e"
      },
      "source": [
        "### 6. Write a Python program to print all pronic numbers between 1 and 100?"
      ]
    },
    {
      "cell_type": "code",
      "source": [
        "#isPronicNumber() will determine whether a given number is a pronic number or not    \n",
        "def isPronicNumber(num):    \n",
        "    flag = False;    \n",
        "        \n",
        "    for j in range(1, num+1):    \n",
        "        #Checks for pronic number by multiplying consecutive numbers    \n",
        "        if((j*(j+1)) == num):    \n",
        "            flag = True;    \n",
        "            break;    \n",
        "    return flag;    \n",
        "     \n",
        "#Displays pronic numbers between 1 and 100    \n",
        "print(\"Pronic numbers between 1 and 100: \");    \n",
        "for i in range(1, 101):    \n",
        "    if(isPronicNumber(i)):    \n",
        "        print(i),    \n",
        "        print(\" \"),    "
      ],
      "metadata": {
        "colab": {
          "base_uri": "https://localhost:8080/"
        },
        "id": "GhuMM1yi0698",
        "outputId": "11167398-7fa5-4618-accd-d2eb2139c5ba"
      },
      "id": "GhuMM1yi0698",
      "execution_count": null,
      "outputs": [
        {
          "output_type": "stream",
          "name": "stdout",
          "text": [
            "Pronic numbers between 1 and 100: \n",
            "2\n",
            " \n",
            "6\n",
            " \n",
            "12\n",
            " \n",
            "20\n",
            " \n",
            "30\n",
            " \n",
            "42\n",
            " \n",
            "56\n",
            " \n",
            "72\n",
            " \n",
            "90\n",
            " \n"
          ]
        }
      ]
    }
  ],
  "metadata": {
    "kernelspec": {
      "display_name": "Python 3 (ipykernel)",
      "language": "python",
      "name": "python3"
    },
    "language_info": {
      "codemirror_mode": {
        "name": "ipython",
        "version": 3
      },
      "file_extension": ".py",
      "mimetype": "text/x-python",
      "name": "python",
      "nbconvert_exporter": "python",
      "pygments_lexer": "ipython3",
      "version": "3.9.12"
    },
    "colab": {
      "provenance": []
    }
  },
  "nbformat": 4,
  "nbformat_minor": 5
}
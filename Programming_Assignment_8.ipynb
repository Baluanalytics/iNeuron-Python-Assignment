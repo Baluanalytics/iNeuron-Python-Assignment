{
  "cells": [
    {
      "cell_type": "markdown",
      "id": "9b304197",
      "metadata": {
        "id": "9b304197"
      },
      "source": [
        "# Python Basic Programming Assignment 8"
      ]
    },
    {
      "cell_type": "markdown",
      "id": "22789ae6",
      "metadata": {
        "id": "22789ae6"
      },
      "source": [
        "### 1. Write a Python Program to Add Two Matrices?"
      ]
    },
    {
      "cell_type": "code",
      "source": [
        "X = [[16,15,3],\n",
        "    [4 ,5,6],\n",
        "    [7 ,8,9]]\n",
        "\n",
        "Y = [[15,18,1],\n",
        "    [6,7,3],\n",
        "    [4,5,9]]\n",
        "\n",
        "result = [[0,0,0],\n",
        "         [0,0,0],\n",
        "         [0,0,0]]\n",
        "\n",
        "# iterate through rows\n",
        "for i in range(len(X)):\n",
        "   # iterate through columns\n",
        "   for j in range(len(X[0])):\n",
        "       result[i][j] = X[i][j] + Y[i][j]\n",
        "\n",
        "for r in result:\n",
        "   print(r)"
      ],
      "metadata": {
        "id": "2GNJ-ugll2nH",
        "outputId": "837b0178-37bb-47fc-ad27-6934cf2cc2e2",
        "colab": {
          "base_uri": "https://localhost:8080/"
        }
      },
      "id": "2GNJ-ugll2nH",
      "execution_count": null,
      "outputs": [
        {
          "output_type": "stream",
          "name": "stdout",
          "text": [
            "[31, 33, 4]\n",
            "[10, 12, 9]\n",
            "[11, 13, 18]\n"
          ]
        }
      ]
    },
    {
      "cell_type": "markdown",
      "id": "044ceda6",
      "metadata": {
        "id": "044ceda6"
      },
      "source": [
        "### 2. Write a Python Program to Multiply Two Matrices?"
      ]
    },
    {
      "cell_type": "code",
      "source": [
        "X = [[16,15,3],\n",
        "    [4 ,5,6],\n",
        "    [7 ,8,9]]\n",
        "\n",
        "Y = [[15,18,1],\n",
        "    [6,7,3],\n",
        "    [4,5,9]]\n",
        "\n",
        "result = [[0,0,0],\n",
        "         [0,0,0],\n",
        "         [0,0,0]]\n",
        "\n",
        "# iterate through rows\n",
        "for i in range(len(X)):\n",
        "   # iterate through columns\n",
        "   for j in range(len(X[0])):\n",
        "       result[i][j] = X[i][j] * Y[i][j]\n",
        "\n",
        "for r in result:\n",
        "   print(r)"
      ],
      "metadata": {
        "colab": {
          "base_uri": "https://localhost:8080/"
        },
        "id": "s0i_ebj-nGOW",
        "outputId": "395fa476-eadc-4ca8-bb02-67e2311a753d"
      },
      "id": "s0i_ebj-nGOW",
      "execution_count": null,
      "outputs": [
        {
          "output_type": "stream",
          "name": "stdout",
          "text": [
            "[240, 270, 3]\n",
            "[24, 35, 18]\n",
            "[28, 40, 81]\n"
          ]
        }
      ]
    },
    {
      "cell_type": "markdown",
      "id": "5f688e46",
      "metadata": {
        "id": "5f688e46"
      },
      "source": [
        "### 3. Write a Python Program to Transpose a Matrix?"
      ]
    },
    {
      "cell_type": "code",
      "source": [
        "X = [[1,2],\n",
        "    [3 ,4],\n",
        "    [5 ,6]]\n",
        "\n",
        "result = [[0,0,0],\n",
        "         [0,0,0]]\n",
        "\n",
        "# iterate through rows\n",
        "for i in range(len(X)):\n",
        "   # iterate through columns\n",
        "   for j in range(len(X[0])):\n",
        "       result[j][i] = X[i][j]\n",
        "\n",
        "for r in result:\n",
        "   print(r)"
      ],
      "metadata": {
        "colab": {
          "base_uri": "https://localhost:8080/"
        },
        "id": "GdN4uSDEoNIJ",
        "outputId": "d5e48a1a-280a-4895-e200-75d10cb6b3d2"
      },
      "id": "GdN4uSDEoNIJ",
      "execution_count": null,
      "outputs": [
        {
          "output_type": "stream",
          "name": "stdout",
          "text": [
            "[1, 3, 5]\n",
            "[2, 4, 6]\n"
          ]
        }
      ]
    },
    {
      "cell_type": "markdown",
      "id": "b2849025",
      "metadata": {
        "id": "b2849025"
      },
      "source": [
        "\n",
        "### 4. Write a Python Program to Sort Words in Alphabetic Order?\n"
      ]
    },
    {
      "cell_type": "code",
      "source": [
        "# Program to sort alphabetically the words form a string provided by the user\n",
        "\n",
        "my_str = \"Hello this Is my python program\"\n",
        "\n",
        "# To take input from the user\n",
        "#my_str = input(\"Enter a string: \")\n",
        "\n",
        "# breakdown the string into a list of words\n",
        "words = [word.lower() for word in my_str.split()]\n",
        "\n",
        "# sort the list\n",
        "words.sort()\n",
        "\n",
        "# display the sorted words\n",
        "\n",
        "print(\"The sorted words are:\")\n",
        "for word in words:\n",
        "   print(word)"
      ],
      "metadata": {
        "colab": {
          "base_uri": "https://localhost:8080/"
        },
        "id": "fudCBVFBpFaI",
        "outputId": "8305d136-fb53-4b0d-be85-41d487886002"
      },
      "id": "fudCBVFBpFaI",
      "execution_count": null,
      "outputs": [
        {
          "output_type": "stream",
          "name": "stdout",
          "text": [
            "The sorted words are:\n",
            "hello\n",
            "is\n",
            "my\n",
            "program\n",
            "python\n",
            "this\n"
          ]
        }
      ]
    },
    {
      "cell_type": "markdown",
      "id": "48ac7b24",
      "metadata": {
        "id": "48ac7b24"
      },
      "source": [
        "### 5. Write a Python Program to Remove Punctuation From a String?"
      ]
    },
    {
      "cell_type": "code",
      "source": [
        "# define punctuation\n",
        "punctuations = '''!()-[]{};:'\"\\,<>./?@#$%^&*_~+'''\n",
        "\n",
        "# my_str = \"Hello!!!, he said ---and went.\"\n",
        "\n",
        "# To take input from the user\n",
        "my_str = input(\"Enter a string: \")\n",
        "\n",
        "# remove punctuation from the string\n",
        "no_punct = \"\"\n",
        "for char in my_str:\n",
        "   if char not in punctuations:\n",
        "       no_punct = no_punct + char\n",
        "\n",
        "# display the unpunctuated string\n",
        "print(no_punct)"
      ],
      "metadata": {
        "colab": {
          "base_uri": "https://localhost:8080/"
        },
        "id": "XKqwwLkpqCxZ",
        "outputId": "72f2f774-9c03-42e2-8fb7-6bdfbeb6d9c1"
      },
      "id": "XKqwwLkpqCxZ",
      "execution_count": null,
      "outputs": [
        {
          "output_type": "stream",
          "name": "stdout",
          "text": [
            "Enter a string: Hai,.,<>>>+ lovely day +++\n",
            "Hai lovely day \n"
          ]
        }
      ]
    }
  ],
  "metadata": {
    "kernelspec": {
      "display_name": "Python 3 (ipykernel)",
      "language": "python",
      "name": "python3"
    },
    "language_info": {
      "codemirror_mode": {
        "name": "ipython",
        "version": 3
      },
      "file_extension": ".py",
      "mimetype": "text/x-python",
      "name": "python",
      "nbconvert_exporter": "python",
      "pygments_lexer": "ipython3",
      "version": "3.9.12"
    },
    "colab": {
      "provenance": []
    }
  },
  "nbformat": 4,
  "nbformat_minor": 5
}
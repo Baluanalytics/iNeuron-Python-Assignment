{
  "cells": [
    {
      "cell_type": "markdown",
      "id": "35297a20",
      "metadata": {
        "id": "35297a20"
      },
      "source": [
        "## Programming Basic Assignment 7"
      ]
    },
    {
      "cell_type": "markdown",
      "id": "27349114",
      "metadata": {
        "id": "27349114"
      },
      "source": [
        "### 1. Write a Python Program to find sum of array?"
      ]
    },
    {
      "cell_type": "code",
      "source": [
        "# Python 3 code to find sum\n",
        "# of elements in given array\n",
        "# driver function\n",
        "arr = []\n",
        " \n",
        "# input values to list\n",
        "arr = [12, 3, 4, 15]\n",
        " \n",
        "# sum() is an inbuilt function in python that adds\n",
        "# all the elements in list,set and tuples and returns\n",
        "# the value\n",
        "ans = sum(arr)\n",
        " \n",
        "# display sum\n",
        "print('Sum of the array is ', ans)"
      ],
      "metadata": {
        "colab": {
          "base_uri": "https://localhost:8080/"
        },
        "id": "kxnkYZ4mAA5I",
        "outputId": "b2b82fee-6bff-413f-babd-e58a93d4b4ad"
      },
      "id": "kxnkYZ4mAA5I",
      "execution_count": null,
      "outputs": [
        {
          "output_type": "stream",
          "name": "stdout",
          "text": [
            "Sum of the array is  34\n"
          ]
        }
      ]
    },
    {
      "cell_type": "markdown",
      "id": "171a980d",
      "metadata": {
        "id": "171a980d"
      },
      "source": [
        "### 2. Write a Python Program to find largest element in an array?\n"
      ]
    },
    {
      "cell_type": "code",
      "source": [
        "# Python3 program to find maximum\n",
        "# in arr[] of size n\n",
        " \n",
        "# python function to find maximum\n",
        "# in arr[] of size n\n",
        " \n",
        " \n",
        "def largest(arr, n):\n",
        " \n",
        "    # Initialize maximum element\n",
        "    max = arr[0]\n",
        " \n",
        "    # Traverse array elements from second\n",
        "    # and compare every element with\n",
        "    # current max\n",
        "    for i in range(1, n):\n",
        "        if arr[i] > max:\n",
        "            max = arr[i]\n",
        "    return max\n",
        " \n",
        " \n",
        "# Driver Code\n",
        "arr = [10, 324, 45, 90, 9808]\n",
        "n = len(arr)\n",
        "Ans = largest(arr, n)\n",
        "print(\"Largest in given array \", Ans)\n",
        " \n"
      ],
      "metadata": {
        "colab": {
          "base_uri": "https://localhost:8080/"
        },
        "id": "NIslx7sEKHt_",
        "outputId": "5a1695ed-1a1a-4d44-bf31-31e80113da6c"
      },
      "id": "NIslx7sEKHt_",
      "execution_count": null,
      "outputs": [
        {
          "output_type": "stream",
          "name": "stdout",
          "text": [
            "Largest in given array  9808\n"
          ]
        }
      ]
    },
    {
      "cell_type": "markdown",
      "id": "21613246",
      "metadata": {
        "id": "21613246"
      },
      "source": [
        "### 3. Write a Python Program for array rotation?"
      ]
    },
    {
      "cell_type": "code",
      "source": [
        "#Python program to left-rotate the given array\n",
        " \n",
        "#Function reverse the given array by swapping first and last numbers.\n",
        "def reverse(start,end,arr):\n",
        " \n",
        "    #No of iterations needed for reversing the list\n",
        "    no_of_reverse=end-start+1\n",
        " \n",
        "    #By incrementing count value swapping of first and last elements is done.\n",
        "    count=0\n",
        "    while((no_of_reverse)//2!=count):\n",
        "        arr[start+count],arr[end-count]=arr[end-count],arr[start+count]\n",
        "        count+=1\n",
        "    return arr\n",
        " \n",
        "#Function takes array, length of array and no of rotations as input\n",
        "def left_rotate_array(arr,size,d):\n",
        " \n",
        "    #Reverse the Entire List\n",
        "    start=0\n",
        "    end=size-1\n",
        "    arr=reverse(start,end,arr)\n",
        "     \n",
        "    #Divide array into twosub-array based on no of rotations.\n",
        "    #Divide First sub-array\n",
        "    #Reverse the First sub-array\n",
        "    start=0\n",
        "    end=size-d-1\n",
        "    arr=reverse(start,end,arr)\n",
        "     \n",
        "    #Divide Second sub-array\n",
        "    #Reverse the Second sub-array\n",
        "    start=size-d\n",
        "    end=size-1\n",
        "    arr=reverse(start,end,arr)\n",
        "    return arr\n",
        "     \n",
        "arr=[1,2,3,4,5,6,7,8]\n",
        "size=8\n",
        "d=1\n",
        "print('Original array:',arr)\n",
        " \n",
        "#Finding all the symmetric rotation number\n",
        "if(d<=size):\n",
        "    print('Rotated array: ',left_rotate_array(arr,size,d))\n",
        "else:\n",
        "    d=d%size\n",
        "    print('Rotated array: ',left_rotate_array(arr,size,d))"
      ],
      "metadata": {
        "colab": {
          "base_uri": "https://localhost:8080/"
        },
        "id": "4FsGwBKjK8ty",
        "outputId": "942e5cbe-d68b-482e-9c0c-697399b3185f"
      },
      "id": "4FsGwBKjK8ty",
      "execution_count": null,
      "outputs": [
        {
          "output_type": "stream",
          "name": "stdout",
          "text": [
            "Original array: [1, 2, 3, 4, 5, 6, 7, 8]\n",
            "Rotated array:  [2, 3, 4, 5, 6, 7, 8, 1]\n"
          ]
        }
      ]
    },
    {
      "cell_type": "markdown",
      "id": "3e52d939",
      "metadata": {
        "id": "3e52d939"
      },
      "source": [
        "### 4. Write a Python Program to Split the array and add the first part to the end?"
      ]
    },
    {
      "cell_type": "code",
      "source": [
        "# Python program to split array and move first\n",
        "# part to end.\n",
        " \n",
        "def splitArr(arr, n, k):\n",
        "    for i in range(0, k):\n",
        "        x = arr[0]\n",
        "        for j in range(0, n-1):\n",
        "            arr[j] = arr[j + 1]\n",
        "         \n",
        "        arr[n-1] = x\n",
        "         \n",
        " \n",
        "# main\n",
        "arr = [12, 10, 5, 6, 52, 36]\n",
        "n = len(arr)\n",
        "position = 2\n",
        " \n",
        "splitArr(arr, n, position)\n",
        " \n",
        "for i in range(0, n):\n",
        "    print(arr[i], end = ' ')"
      ],
      "metadata": {
        "colab": {
          "base_uri": "https://localhost:8080/"
        },
        "id": "LgmuBH1cLY1c",
        "outputId": "ce44f67c-e785-4631-8546-a93145c16f3b"
      },
      "id": "LgmuBH1cLY1c",
      "execution_count": null,
      "outputs": [
        {
          "output_type": "stream",
          "name": "stdout",
          "text": [
            "5 6 52 36 12 10 "
          ]
        }
      ]
    },
    {
      "cell_type": "markdown",
      "id": "aa375779",
      "metadata": {
        "id": "aa375779"
      },
      "source": [
        "### 5. Write a Python Program to check if given array is Monotonic?"
      ]
    },
    {
      "cell_type": "code",
      "source": [
        "# Check if given array is Monotonic\n",
        "def isMonotonic(A):\n",
        "    x, y = [], []\n",
        "    x.extend(A)\n",
        "    y.extend(A)\n",
        "    x.sort()\n",
        "    y.sort(reverse=True)\n",
        "    if(x == A or y == A):\n",
        "        return True\n",
        "    return False\n",
        " \n",
        " \n",
        "# Driver program\n",
        "A = [6, 5, 4, 4]\n",
        " \n",
        "# Print required result\n",
        "print(isMonotonic(A))"
      ],
      "metadata": {
        "colab": {
          "base_uri": "https://localhost:8080/"
        },
        "id": "gt6ZEQqZL4UV",
        "outputId": "b8074fec-2d10-4883-9456-5a7492ea93e0"
      },
      "id": "gt6ZEQqZL4UV",
      "execution_count": null,
      "outputs": [
        {
          "output_type": "stream",
          "name": "stdout",
          "text": [
            "True\n"
          ]
        }
      ]
    }
  ],
  "metadata": {
    "kernelspec": {
      "display_name": "Python 3 (ipykernel)",
      "language": "python",
      "name": "python3"
    },
    "language_info": {
      "codemirror_mode": {
        "name": "ipython",
        "version": 3
      },
      "file_extension": ".py",
      "mimetype": "text/x-python",
      "name": "python",
      "nbconvert_exporter": "python",
      "pygments_lexer": "ipython3",
      "version": "3.9.12"
    },
    "colab": {
      "provenance": []
    }
  },
  "nbformat": 4,
  "nbformat_minor": 5
}
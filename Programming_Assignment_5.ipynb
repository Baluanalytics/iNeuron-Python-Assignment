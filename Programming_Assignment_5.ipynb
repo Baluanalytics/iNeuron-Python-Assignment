{
  "cells": [
    {
      "cell_type": "markdown",
      "id": "4ac9602a",
      "metadata": {
        "id": "4ac9602a"
      },
      "source": [
        "## Python Basic Programming Assignment - 5\n",
        "--------------\n"
      ]
    },
    {
      "cell_type": "markdown",
      "id": "fdaeee06",
      "metadata": {
        "id": "fdaeee06"
      },
      "source": [
        "### 1. Write a Python Program to Find LCM?"
      ]
    },
    {
      "cell_type": "code",
      "source": [
        "# To take input from the user\n",
        "num1 = int(input(\"Enter a number: \"))\n",
        "num2 = int(input(\"Enter a number: \"))\n",
        "\n",
        "def compute_lcm(x, y):\n",
        "\n",
        "   # choose the greater number\n",
        "   if x > y:\n",
        "       greater = x\n",
        "   else:\n",
        "       greater = y\n",
        "\n",
        "   while(True):\n",
        "       if((greater % x == 0) and (greater % y == 0)):\n",
        "           lcm = greater\n",
        "           break\n",
        "       greater += 1\n",
        "\n",
        "   return lcm\n",
        "\n",
        "\n",
        "print(\"The L.C.M. is\", compute_lcm(num1, num2))"
      ],
      "metadata": {
        "colab": {
          "base_uri": "https://localhost:8080/"
        },
        "id": "VmkUqOIoerkh",
        "outputId": "a8b4f97e-cba0-4723-9704-97e277f3ce52"
      },
      "id": "VmkUqOIoerkh",
      "execution_count": null,
      "outputs": [
        {
          "output_type": "stream",
          "name": "stdout",
          "text": [
            "Enter a number: 54\n",
            "Enter a number: 24\n",
            "The L.C.M. is 216\n"
          ]
        }
      ]
    },
    {
      "cell_type": "markdown",
      "id": "2f459cdf",
      "metadata": {
        "id": "2f459cdf"
      },
      "source": [
        "### 2. Write a Python Program to Find HCF?"
      ]
    },
    {
      "cell_type": "code",
      "source": [
        "# To take input from the user\n",
        "num1 = int(input(\"Enter a number: \"))\n",
        "num2 = int(input(\"Enter a number: \"))\n",
        "\n",
        "# define a function\n",
        "def compute_hcf(x, y):\n",
        "\n",
        "# choose the smaller number\n",
        "    if x > y:\n",
        "        smaller = y\n",
        "    else:\n",
        "        smaller = x\n",
        "    for i in range(1, smaller+1):\n",
        "        if((x % i == 0) and (y % i == 0)):\n",
        "            hcf = i \n",
        "    return hcf\n",
        "\n",
        "\n",
        "print(\"The H.C.F. is\", compute_hcf(num1, num2))\n"
      ],
      "metadata": {
        "colab": {
          "base_uri": "https://localhost:8080/"
        },
        "id": "_G3GnP_ti209",
        "outputId": "7fa5f055-379e-4615-b434-c987f0acf4c2"
      },
      "id": "_G3GnP_ti209",
      "execution_count": null,
      "outputs": [
        {
          "output_type": "stream",
          "name": "stdout",
          "text": [
            "Enter a number: 54\n",
            "Enter a number: 24\n",
            "The H.C.F. is 6\n"
          ]
        }
      ]
    },
    {
      "cell_type": "markdown",
      "id": "d2c29370",
      "metadata": {
        "id": "d2c29370"
      },
      "source": [
        "### 3. Write a Python Program to Convert Decimal to Binary, Octal and Hexadecimal?"
      ]
    },
    {
      "cell_type": "code",
      "source": [
        "# Python program to convert decimal into other number systems\n",
        "dec = 344\n",
        "\n",
        "print(\"The decimal value of\", dec, \"is:\")\n",
        "print(bin(dec), \"in binary.\")\n",
        "print(oct(dec), \"in octal.\")\n",
        "print(hex(dec), \"in hexadecimal.\")"
      ],
      "metadata": {
        "colab": {
          "base_uri": "https://localhost:8080/"
        },
        "id": "WAt_s9LDjoo5",
        "outputId": "3b69a089-46a5-4176-eec8-a28061ceab6d"
      },
      "id": "WAt_s9LDjoo5",
      "execution_count": null,
      "outputs": [
        {
          "output_type": "stream",
          "name": "stdout",
          "text": [
            "The decimal value of 344 is:\n",
            "0b101011000 in binary.\n",
            "0o530 in octal.\n",
            "0x158 in hexadecimal.\n"
          ]
        }
      ]
    },
    {
      "cell_type": "markdown",
      "id": "2a16c5fd",
      "metadata": {
        "id": "2a16c5fd"
      },
      "source": [
        "### 4. Write a Python Program To Find ASCII value of a character?"
      ]
    },
    {
      "cell_type": "code",
      "source": [
        "# Program to find the ASCII value of the given character\n",
        "\n",
        "c = 'A'\n",
        "d = 'B'\n",
        "e = 'C'\n",
        "print(\"The ASCII value of '\" + c + \"' is\", ord(c))\n",
        "print(\"The ASCII value of '\" + d + \"' is\", ord(d))\n",
        "print(\"The ASCII value of '\" + e + \"' is\", ord(e))"
      ],
      "metadata": {
        "colab": {
          "base_uri": "https://localhost:8080/"
        },
        "id": "SqTqCsogkSA6",
        "outputId": "3b9dda48-6c3e-440e-b6a3-2e8093929e06"
      },
      "id": "SqTqCsogkSA6",
      "execution_count": null,
      "outputs": [
        {
          "output_type": "stream",
          "name": "stdout",
          "text": [
            "The ASCII value of 'A' is 65\n",
            "The ASCII value of 'B' is 66\n",
            "The ASCII value of 'C' is 67\n"
          ]
        }
      ]
    },
    {
      "cell_type": "markdown",
      "id": "226778a0",
      "metadata": {
        "id": "226778a0"
      },
      "source": [
        "### 5. Write a Python Program to Make a Simple Calculator with 4 basic mathematical operations?"
      ]
    },
    {
      "cell_type": "code",
      "source": [
        "# This function adds two numbers\n",
        "def add(x, y):\n",
        "    return x + y\n",
        "\n",
        "# This function subtracts two numbers\n",
        "def subtract(x, y):\n",
        "    return x - y\n",
        "\n",
        "# This function multiplies two numbers\n",
        "def multiply(x, y):\n",
        "    return x * y\n",
        "\n",
        "# This function divides two numbers\n",
        "def divide(x, y):\n",
        "    return x / y\n",
        "\n",
        "\n",
        "print(\"Select operation.\")\n",
        "print(\"1.Add\")\n",
        "print(\"2.Subtract\")\n",
        "print(\"3.Multiply\")\n",
        "print(\"4.Divide\")\n",
        "\n",
        "while True:\n",
        "    # take input from the user\n",
        "    choice = input(\"Enter choice(1/2/3/4): \")\n",
        "\n",
        "    # check if choice is one of the four options\n",
        "    if choice in ('1', '2', '3', '4'):\n",
        "        try:\n",
        "            num1 = float(input(\"Enter first number: \"))\n",
        "            num2 = float(input(\"Enter second number: \"))\n",
        "        except ValueError:\n",
        "            print(\"Invalid input. Please enter a number.\")\n",
        "            continue\n",
        "\n",
        "        if choice == '1':\n",
        "            print(num1, \"+\", num2, \"=\", add(num1, num2))\n",
        "\n",
        "        elif choice == '2':\n",
        "            print(num1, \"-\", num2, \"=\", subtract(num1, num2))\n",
        "\n",
        "        elif choice == '3':\n",
        "            print(num1, \"*\", num2, \"=\", multiply(num1, num2))\n",
        "\n",
        "        elif choice == '4':\n",
        "            print(num1, \"/\", num2, \"=\", divide(num1, num2))\n",
        "        \n",
        "        # check if user wants another calculation\n",
        "        # break the while loop if answer is no\n",
        "        next_calculation = input(\"Let's do next calculation? (yes/no): \")\n",
        "        if next_calculation == \"no\":\n",
        "          break\n",
        "    else:\n",
        "        print(\"Invalid Input\")"
      ],
      "metadata": {
        "colab": {
          "base_uri": "https://localhost:8080/"
        },
        "id": "5RUQfXHyldiS",
        "outputId": "504a52d4-54bc-4ce1-a30f-d98c4d2abaa5"
      },
      "id": "5RUQfXHyldiS",
      "execution_count": null,
      "outputs": [
        {
          "name": "stdout",
          "output_type": "stream",
          "text": [
            "Select operation.\n",
            "1.Add\n",
            "2.Subtract\n",
            "3.Multiply\n",
            "4.Divide\n",
            "Enter choice(1/2/3/4): 1\n",
            "Enter first number: 5\n",
            "Enter second number: 6\n",
            "5.0 + 6.0 = 11.0\n",
            "Let's do next calculation? (yes/no): yes\n",
            "Enter choice(1/2/3/4): 5\n",
            "Invalid Input\n",
            "Enter choice(1/2/3/4): 4\n",
            "Enter first number: 5\n",
            "Enter second number: 5\n",
            "5.0 / 5.0 = 1.0\n",
            "Let's do next calculation? (yes/no): no\n"
          ]
        }
      ]
    }
  ],
  "metadata": {
    "kernelspec": {
      "display_name": "Python 3 (ipykernel)",
      "language": "python",
      "name": "python3"
    },
    "language_info": {
      "codemirror_mode": {
        "name": "ipython",
        "version": 3
      },
      "file_extension": ".py",
      "mimetype": "text/x-python",
      "name": "python",
      "nbconvert_exporter": "python",
      "pygments_lexer": "ipython3",
      "version": "3.9.12"
    },
    "colab": {
      "provenance": []
    }
  },
  "nbformat": 4,
  "nbformat_minor": 5
}